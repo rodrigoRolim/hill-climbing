{
 "cells": [
  {
   "cell_type": "markdown",
   "metadata": {},
   "source": [
    "#### Marco\n",
    "#### Paulo R. K. Nakaima\n",
    "#### Rodrigo R. Veras"
   ]
  },
  {
   "cell_type": "markdown",
   "metadata": {},
   "source": [
    "### Hill-Climbing n-Queens"
   ]
  },
  {
   "cell_type": "markdown",
   "metadata": {},
   "source": [
    "Como ponto de partida implementamos o algoritmo Hill-Climbing (Subida da encosta) utilizando a heurística de pares de damas atacadas.\n",
    "\n",
    "Testamos com a configuração do tabuleiro utilizada como exemplo no livro de Norvig e Russel:"
   ]
  },
  {
   "cell_type": "code",
   "execution_count": 4,
   "metadata": {},
   "outputs": [
    {
     "name": "stdout",
     "output_type": "stream",
     "text": [
      "[[0 0 0 0 0 0 0 0]\n",
      " [0 0 0 0 0 0 0 0]\n",
      " [0 0 0 0 0 0 0 0]\n",
      " [0 0 0 1 0 0 0 0]\n",
      " [1 0 0 0 1 0 0 0]\n",
      " [0 1 0 0 0 1 0 1]\n",
      " [0 0 1 0 0 0 1 0]\n",
      " [0 0 0 0 0 0 0 0]]\n"
     ]
    }
   ],
   "source": [
    "from board.board import Board\n",
    "\n",
    "n = 8\n",
    "board = Board(n)\n",
    "\n",
    "i, j = 4, 0\n",
    "board[i, j] = 1\n",
    "i, j = 5, 1\n",
    "board[i, j] = 1\n",
    "i, j = 6, 2\n",
    "board[i, j] = 1\n",
    "i, j = 3, 3\n",
    "board[i, j] = 1\n",
    "i, j = 4, 4\n",
    "board[i, j] = 1\n",
    "i, j = 5, 5\n",
    "board[i, j] = 1\n",
    "i, j = 6, 6\n",
    "board[i, j] = 1\n",
    "i, j = 5, 7\n",
    "board[i, j] = 1\n",
    "board.print()"
   ]
  },
  {
   "cell_type": "markdown",
   "metadata": {},
   "source": [
    "Nesta configuração o mínimo de estados necessários é 5. Abaixo está o gráfico da topologia de um dos experimentos executados, o qual encontra a solução passando por 9 estados:"
   ]
  },
  {
   "cell_type": "markdown",
   "metadata": {},
   "source": [
    "![landscape-graph](figures/russel-norvig-example.png)"
   ]
  },
  {
   "cell_type": "markdown",
   "metadata": {},
   "source": [
    "Outro experimento no qual o algoritmo fica preso por um longo tempo em uma planíce (shoulder), isto é, vários sucessores com o mesmo valor mas com uma saída encosta acima:\n",
    "![landscape-graph](figures/russel-norvig-example-shoulder.png)"
   ]
  },
  {
   "cell_type": "markdown",
   "metadata": {},
   "source": [
    "Os gráficos a seguir são experimentos executados com inicialização randômica do tabuleiro:"
   ]
  },
  {
   "cell_type": "code",
   "execution_count": 12,
   "metadata": {},
   "outputs": [
    {
     "data": {
      "text/plain": [
       "'\\ninicio \\n\\n[[0 0 1 0 0 0 0 0]\\n [0 0 0 0 0 0 0 0]\\n [0 0 0 0 0 0 0 0]\\n [0 0 0 0 0 1 0 0]\\n [0 0 0 0 1 0 0 0]\\n [1 0 0 0 0 0 0 0]\\n [0 1 0 1 0 0 0 1]\\n [0 0 0 0 0 0 1 0]]\\n\\nsolução\\n\\n[[0 0 1 0 0 0 0 0]\\n [0 0 0 0 0 1 0 0]\\n [0 1 0 0 0 0 0 0]\\n [0 0 0 0 1 0 0 0]\\n [0 0 0 0 0 0 0 1]\\n [1 0 0 0 0 0 0 0]\\n [0 0 0 0 0 0 1 0]\\n [0 0 0 1 0 0 0 0]]\\n '"
      ]
     },
     "execution_count": 12,
     "metadata": {},
     "output_type": "execute_result"
    }
   ],
   "source": [
    "'''\n",
    "inicio \n",
    "\n",
    "[[0 0 1 0 0 0 0 0]\n",
    " [0 0 0 0 0 0 0 0]\n",
    " [0 0 0 0 0 0 0 0]\n",
    " [0 0 0 0 0 1 0 0]\n",
    " [0 0 0 0 1 0 0 0]\n",
    " [1 0 0 0 0 0 0 0]\n",
    " [0 1 0 1 0 0 0 1]\n",
    " [0 0 0 0 0 0 1 0]]\n",
    "\n",
    "solução\n",
    "\n",
    "[[0 0 1 0 0 0 0 0]\n",
    " [0 0 0 0 0 1 0 0]\n",
    " [0 1 0 0 0 0 0 0]\n",
    " [0 0 0 0 1 0 0 0]\n",
    " [0 0 0 0 0 0 0 1]\n",
    " [1 0 0 0 0 0 0 0]\n",
    " [0 0 0 0 0 0 1 0]\n",
    " [0 0 0 1 0 0 0 0]]\n",
    " '''"
   ]
  },
  {
   "cell_type": "markdown",
   "metadata": {},
   "source": [
    "![landscape-graph](figures/10-experiment.png)"
   ]
  },
  {
   "cell_type": "code",
   "execution_count": null,
   "metadata": {},
   "outputs": [],
   "source": []
  }
 ],
 "metadata": {
  "kernelspec": {
   "display_name": "Python 3",
   "language": "python",
   "name": "python3"
  },
  "language_info": {
   "codemirror_mode": {
    "name": "ipython",
    "version": 3
   },
   "file_extension": ".py",
   "mimetype": "text/x-python",
   "name": "python",
   "nbconvert_exporter": "python",
   "pygments_lexer": "ipython3",
   "version": "3.7.1"
  }
 },
 "nbformat": 4,
 "nbformat_minor": 2
}
