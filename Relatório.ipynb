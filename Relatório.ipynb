{
 "cells": [
  {
   "cell_type": "markdown",
   "metadata": {},
   "source": [
    "#### Marco Aurélio Souza\n",
    "#### Paulo R. K. Nakaima\n",
    "#### Rodrigo R. Veras"
   ]
  },
  {
   "cell_type": "markdown",
   "metadata": {},
   "source": [
    "### Hill-Climbing n-Queens"
   ]
  },
  {
   "cell_type": "markdown",
   "metadata": {},
   "source": [
    "Hill-Climbing é uma técnica de otimização matemática que pertence ao grupo das buscas locais. Ele é um algoritmo\n",
    "iterativo que inicia com uma solução arbitrária para um dado problema e, em seguida, tenta achar uma solução melhor fazendo alterações incrementais no problema."
   ]
  },
  {
   "cell_type": "markdown",
   "metadata": {},
   "source": [
    "### Condições iniciais"
   ]
  },
  {
   "cell_type": "markdown",
   "metadata": {},
   "source": [
    "Como ponto de partida implementamos o algoritmo Hill-Climbing (Subida da encosta) utilizando a heurística de pares de damas atacadas. Este trabalho seguiu a solução proposta no livro de Norvig e Russel, onde a condição de existência da configuração inicial do tabuleiro é duas ou mais rainhas não devem estar em uma mesma coluna ao mesmo tempo. Ainda assim, cada rainha so poderá se movimentada dentro de sua coluna inicial."
   ]
  },
  {
   "cell_type": "markdown",
   "metadata": {},
   "source": [
    "#### heurística"
   ]
  },
  {
   "cell_type": "markdown",
   "metadata": {},
   "source": [
    "A herística é baseada na quantidade de pares de rainhas atacante no estado corrente do jogo. No algorítmo, é somado a quantidade desses pares no total para cada estado corrente. As rainhas são movimentadas apenas nas linhas dentro de suas respectivas colunas de origem. Veja os passo a seguir:\n",
    "\n",
    "1. Dado um estado inicial, é selecionado a rainha da primeira coluna;\n",
    "2. É, então, calculado a quantidade de pares atacantes no total (em todo o tabuleiro) para cada nova posição assumida por essa rainha na coluna dada;\n",
    "3. A posição que resultou no menor valor total de rainhas atacantes (valor da heurística) é assumida como nova posição para esta rainha;\n",
    "4. Os passos anteriores são repetidos para todas as colunas sucessivas;\n",
    "5. Enquanto o valor total de rainhas atacantes não for zero (estado objetivo), esses passos são repetidos, passando novamente por todas as colunas.\n"
   ]
  },
  {
   "cell_type": "markdown",
   "metadata": {},
   "source": [
    "### Desenvolvimento"
   ]
  },
  {
   "cell_type": "markdown",
   "metadata": {},
   "source": [
    "Testamos com a configuração do tabuleiro utilizada como exemplo no livro de Norvig e Russel:"
   ]
  },
  {
   "cell_type": "code",
   "execution_count": 1,
   "metadata": {},
   "outputs": [
    {
     "name": "stdout",
     "output_type": "stream",
     "text": [
      "[[0 0 0 0 0 0 0 0]\n",
      " [0 0 0 0 0 0 0 0]\n",
      " [0 0 0 0 0 0 0 0]\n",
      " [0 0 0 1 0 0 0 0]\n",
      " [1 0 0 0 1 0 0 0]\n",
      " [0 1 0 0 0 1 0 1]\n",
      " [0 0 1 0 0 0 1 0]\n",
      " [0 0 0 0 0 0 0 0]]\n"
     ]
    }
   ],
   "source": [
    "from board.board import Board\n",
    "\n",
    "n = 8\n",
    "board = Board(n)\n",
    "\n",
    "i, j = 4, 0\n",
    "board[i, j] = 1\n",
    "i, j = 5, 1\n",
    "board[i, j] = 1\n",
    "i, j = 6, 2\n",
    "board[i, j] = 1\n",
    "i, j = 3, 3\n",
    "board[i, j] = 1\n",
    "i, j = 4, 4\n",
    "board[i, j] = 1\n",
    "i, j = 5, 5\n",
    "board[i, j] = 1\n",
    "i, j = 6, 6\n",
    "board[i, j] = 1\n",
    "i, j = 5, 7\n",
    "board[i, j] = 1\n",
    "board.print()"
   ]
  },
  {
   "cell_type": "markdown",
   "metadata": {},
   "source": [
    "Nesta configuração o mínimo de estados necessários é 5. Abaixo está o gráfico da topologia de um dos experimentos executados, o qual encontra a solução passando por 9 estados:"
   ]
  },
  {
   "cell_type": "markdown",
   "metadata": {},
   "source": [
    "![landscape-graph](figures/russel-norvig-example.png)"
   ]
  },
  {
   "cell_type": "markdown",
   "metadata": {},
   "source": [
    "Outro experimento no qual o algoritmo fica preso por um longo tempo em uma planíce (shoulder), isto é, vários sucessores com o mesmo valor mas com uma saída encosta acima:\n",
    "![landscape-graph](figures/russel-norvig-example-shoulder.png)"
   ]
  },
  {
   "cell_type": "markdown",
   "metadata": {},
   "source": [
    "Os gráficos a seguir são experimentos executados com inicialização randômica do tabuleiro:"
   ]
  },
  {
   "cell_type": "code",
   "execution_count": 12,
   "metadata": {
    "scrolled": true
   },
   "outputs": [
    {
     "data": {
      "text/plain": [
       "'\\ninicio \\n\\n[[0 0 1 0 0 0 0 0]\\n [0 0 0 0 0 0 0 0]\\n [0 0 0 0 0 0 0 0]\\n [0 0 0 0 0 1 0 0]\\n [0 0 0 0 1 0 0 0]\\n [1 0 0 0 0 0 0 0]\\n [0 1 0 1 0 0 0 1]\\n [0 0 0 0 0 0 1 0]]\\n\\nsolução\\n\\n[[0 0 1 0 0 0 0 0]\\n [0 0 0 0 0 1 0 0]\\n [0 1 0 0 0 0 0 0]\\n [0 0 0 0 1 0 0 0]\\n [0 0 0 0 0 0 0 1]\\n [1 0 0 0 0 0 0 0]\\n [0 0 0 0 0 0 1 0]\\n [0 0 0 1 0 0 0 0]]\\n '"
      ]
     },
     "execution_count": 12,
     "metadata": {},
     "output_type": "execute_result"
    }
   ],
   "source": [
    "'''\n",
    "inicio \n",
    "\n",
    "[[0 0 1 0 0 0 0 0]\n",
    " [0 0 0 0 0 0 0 0]\n",
    " [0 0 0 0 0 0 0 0]\n",
    " [0 0 0 0 0 1 0 0]\n",
    " [0 0 0 0 1 0 0 0]\n",
    " [1 0 0 0 0 0 0 0]\n",
    " [0 1 0 1 0 0 0 1]\n",
    " [0 0 0 0 0 0 1 0]]\n",
    "\n",
    "solução\n",
    "\n",
    "[[0 0 1 0 0 0 0 0]\n",
    " [0 0 0 0 0 1 0 0]\n",
    " [0 1 0 0 0 0 0 0]\n",
    " [0 0 0 0 1 0 0 0]\n",
    " [0 0 0 0 0 0 0 1]\n",
    " [1 0 0 0 0 0 0 0]\n",
    " [0 0 0 0 0 0 1 0]\n",
    " [0 0 0 1 0 0 0 0]]\n",
    " '''"
   ]
  },
  {
   "cell_type": "markdown",
   "metadata": {},
   "source": [
    "![landscape-graph](figures/10-experiment.png)"
   ]
  },
  {
   "cell_type": "code",
   "execution_count": 1,
   "metadata": {},
   "outputs": [
    {
     "data": {
      "text/plain": [
       "'\\nInício: \\n\\n\\n[[0 0 0 0 0 0 0 0]\\n [0 0 0 0 0 0 0 0]\\n [0 0 0 0 0 0 0 0]\\n [1 0 0 0 0 1 0 0]\\n [0 0 0 0 1 0 0 1]\\n [0 1 1 0 0 0 0 0]\\n [0 0 0 1 0 0 0 0]\\n [0 0 0 0 0 0 1 0]]\\n\\nSolução:\\n[[0 0 0 0 1 0 0 0]\\n [0 0 1 0 0 0 0 0]\\n [1 0 0 0 0 0 0 0]\\n [0 0 0 0 0 1 0 0]\\n [0 0 0 0 0 0 0 1]\\n [0 1 0 0 0 0 0 0]\\n [0 0 0 1 0 0 0 0]\\n [0 0 0 0 0 0 1 0]]\\n\\n\\n'"
      ]
     },
     "execution_count": 1,
     "metadata": {},
     "output_type": "execute_result"
    }
   ],
   "source": [
    "'''\n",
    "Início: \n",
    "\n",
    "\n",
    "[[0 0 0 0 0 0 0 0]\n",
    " [0 0 0 0 0 0 0 0]\n",
    " [0 0 0 0 0 0 0 0]\n",
    " [1 0 0 0 0 1 0 0]\n",
    " [0 0 0 0 1 0 0 1]\n",
    " [0 1 1 0 0 0 0 0]\n",
    " [0 0 0 1 0 0 0 0]\n",
    " [0 0 0 0 0 0 1 0]]\n",
    "\n",
    "Solução:\n",
    "[[0 0 0 0 1 0 0 0]\n",
    " [0 0 1 0 0 0 0 0]\n",
    " [1 0 0 0 0 0 0 0]\n",
    " [0 0 0 0 0 1 0 0]\n",
    " [0 0 0 0 0 0 0 1]\n",
    " [0 1 0 0 0 0 0 0]\n",
    " [0 0 0 1 0 0 0 0]\n",
    " [0 0 0 0 0 0 1 0]]\n",
    "\n",
    "\n",
    "'''"
   ]
  },
  {
   "cell_type": "markdown",
   "metadata": {},
   "source": [
    "![landscape-graph](figures/15-experiment.png)"
   ]
  },
  {
   "cell_type": "code",
   "execution_count": 2,
   "metadata": {},
   "outputs": [
    {
     "data": {
      "text/plain": [
       "'\\nInício:\\n\\n\\n[[0 0 0 1 0 0 1 0]\\n [0 0 0 0 0 0 0 0]\\n [0 0 0 0 0 0 0 0]\\n [0 1 0 0 0 0 0 0]\\n [0 0 0 0 0 1 0 1]\\n [1 0 1 0 0 0 0 0]\\n [0 0 0 0 1 0 0 0]\\n [0 0 0 0 0 0 0 0]]\\n\\nSolução:\\n\\n[[0 0 0 1 0 0 0 0]\\n [0 1 0 0 0 0 0 0]\\n [0 0 0 0 0 0 1 0]\\n [0 0 1 0 0 0 0 0]\\n [0 0 0 0 0 1 0 0]\\n [0 0 0 0 0 0 0 1]\\n [0 0 0 0 1 0 0 0]\\n [1 0 0 0 0 0 0 0]]\\n\\n'"
      ]
     },
     "execution_count": 2,
     "metadata": {},
     "output_type": "execute_result"
    }
   ],
   "source": [
    "'''\n",
    "Início:\n",
    "\n",
    "\n",
    "[[0 0 0 1 0 0 1 0]\n",
    " [0 0 0 0 0 0 0 0]\n",
    " [0 0 0 0 0 0 0 0]\n",
    " [0 1 0 0 0 0 0 0]\n",
    " [0 0 0 0 0 1 0 1]\n",
    " [1 0 1 0 0 0 0 0]\n",
    " [0 0 0 0 1 0 0 0]\n",
    " [0 0 0 0 0 0 0 0]]\n",
    "\n",
    "Solução:\n",
    "\n",
    "[[0 0 0 1 0 0 0 0]\n",
    " [0 1 0 0 0 0 0 0]\n",
    " [0 0 0 0 0 0 1 0]\n",
    " [0 0 1 0 0 0 0 0]\n",
    " [0 0 0 0 0 1 0 0]\n",
    " [0 0 0 0 0 0 0 1]\n",
    " [0 0 0 0 1 0 0 0]\n",
    " [1 0 0 0 0 0 0 0]]\n",
    "\n",
    "'''"
   ]
  },
  {
   "cell_type": "markdown",
   "metadata": {},
   "source": [
    "![landscape-graph](figures/16-experiment.png)"
   ]
  },
  {
   "cell_type": "code",
   "execution_count": 3,
   "metadata": {},
   "outputs": [
    {
     "data": {
      "text/plain": [
       "'\\nInicio:\\n\\n[[0 0 0 0 0 0 0 0]\\n [0 0 1 0 0 0 0 0]\\n [0 0 0 0 0 0 0 0]\\n [0 0 0 0 1 1 0 0]\\n [0 0 0 1 0 0 1 0]\\n [0 0 0 0 0 0 0 1]\\n [1 0 0 0 0 0 0 0]\\n [0 1 0 0 0 0 0 0]]\\n\\nSolução:\\n\\n[[0 0 0 0 0 1 0 0]\\n [0 0 1 0 0 0 0 0]\\n [0 0 0 0 0 0 1 0]\\n [0 0 0 1 0 0 0 0]\\n [1 0 0 0 0 0 0 0]\\n [0 0 0 0 0 0 0 1]\\n [0 1 0 0 0 0 0 0]\\n [0 0 0 0 1 0 0 0]]\\n\\n'"
      ]
     },
     "execution_count": 3,
     "metadata": {},
     "output_type": "execute_result"
    }
   ],
   "source": [
    "'''\n",
    "Inicio:\n",
    "\n",
    "[[0 0 0 0 0 0 0 0]\n",
    " [0 0 1 0 0 0 0 0]\n",
    " [0 0 0 0 0 0 0 0]\n",
    " [0 0 0 0 1 1 0 0]\n",
    " [0 0 0 1 0 0 1 0]\n",
    " [0 0 0 0 0 0 0 1]\n",
    " [1 0 0 0 0 0 0 0]\n",
    " [0 1 0 0 0 0 0 0]]\n",
    "\n",
    "Solução:\n",
    "\n",
    "[[0 0 0 0 0 1 0 0]\n",
    " [0 0 1 0 0 0 0 0]\n",
    " [0 0 0 0 0 0 1 0]\n",
    " [0 0 0 1 0 0 0 0]\n",
    " [1 0 0 0 0 0 0 0]\n",
    " [0 0 0 0 0 0 0 1]\n",
    " [0 1 0 0 0 0 0 0]\n",
    " [0 0 0 0 1 0 0 0]]\n",
    "\n",
    "'''"
   ]
  },
  {
   "cell_type": "markdown",
   "metadata": {},
   "source": [
    "![landscape-graph](figures/17-experiment.png)"
   ]
  },
  {
   "cell_type": "code",
   "execution_count": 4,
   "metadata": {},
   "outputs": [
    {
     "data": {
      "text/plain": [
       "'\\nInício:\\n\\n\\n[[0 0 0 0 0 0 0 0]\\n [0 0 0 0 0 0 0 0]\\n [0 0 1 1 0 0 0 0]\\n [0 0 0 0 0 0 0 0]\\n [0 1 0 0 1 1 0 1]\\n [1 0 0 0 0 0 1 0]\\n [0 0 0 0 0 0 0 0]\\n [0 0 0 0 0 0 0 0]]\\n\\n\\nSolução:\\n\\n[[0 0 1 0 0 0 0 0]\\n [0 0 0 0 0 1 0 0]\\n [0 0 0 0 0 0 0 1]\\n [1 0 0 0 0 0 0 0]\\n [0 0 0 1 0 0 0 0]\\n [0 0 0 0 0 0 1 0]\\n [0 0 0 0 1 0 0 0]\\n [0 1 0 0 0 0 0 0]]\\n\\n'"
      ]
     },
     "execution_count": 4,
     "metadata": {},
     "output_type": "execute_result"
    }
   ],
   "source": [
    "'''\n",
    "Início:\n",
    "\n",
    "\n",
    "[[0 0 0 0 0 0 0 0]\n",
    " [0 0 0 0 0 0 0 0]\n",
    " [0 0 1 1 0 0 0 0]\n",
    " [0 0 0 0 0 0 0 0]\n",
    " [0 1 0 0 1 1 0 1]\n",
    " [1 0 0 0 0 0 1 0]\n",
    " [0 0 0 0 0 0 0 0]\n",
    " [0 0 0 0 0 0 0 0]]\n",
    "\n",
    "\n",
    "Solução:\n",
    "\n",
    "[[0 0 1 0 0 0 0 0]\n",
    " [0 0 0 0 0 1 0 0]\n",
    " [0 0 0 0 0 0 0 1]\n",
    " [1 0 0 0 0 0 0 0]\n",
    " [0 0 0 1 0 0 0 0]\n",
    " [0 0 0 0 0 0 1 0]\n",
    " [0 0 0 0 1 0 0 0]\n",
    " [0 1 0 0 0 0 0 0]]\n",
    "\n",
    "'''"
   ]
  },
  {
   "cell_type": "markdown",
   "metadata": {},
   "source": [
    "![landscape-graph](figures/18-experiment.png)"
   ]
  },
  {
   "cell_type": "markdown",
   "metadata": {},
   "source": [
    "### Resultados\n",
    "\n",
    "Foram realizados alguns experimentos, no entanto, não foi encontrado uma configuração onde o algoritmo ficasse preso permanentemente em alguma colina que não fosse a melhor. O que não significa que não exista um.\n",
    "\n",
    "Conforme dito anteriormente, o algorítmo inicializa um tabuleiro de tamanho N, cujo valor é atribuído no código antes da execução. O algorítmo foi validado com o tabuleiro de N = 8. Também foram testados com valores maiores que 8.\n",
    "\n",
    "Como não foi possível gerar uma configuração inicial do tabuleiro na qual exista um platô utilizamos o exemplo apresentado no livro de Russel e Norvig. Nesta configuração qualquer movimento possui o valor maior que 1, portanto o algoritmo de subida da ecosta fica preso em um platô."
   ]
  },
  {
   "cell_type": "code",
   "execution_count": 2,
   "metadata": {},
   "outputs": [
    {
     "data": {
      "text/plain": [
       "'\\nInício:\\n\\n[[0 0 0 0 0 0 1 0]\\n [0 0 0 0 1 0 0 0]\\n [0 1 0 0 0 0 0 0]\\n [0 0 0 1 0 0 0 0]\\n [0 0 0 0 0 1 0 0]\\n [0 0 0 0 0 0 0 1]\\n [0 0 1 0 0 0 0 0]\\n [1 0 0 0 0 0 0 0]]\\n \\n '"
      ]
     },
     "execution_count": 2,
     "metadata": {},
     "output_type": "execute_result"
    }
   ],
   "source": [
    "'''\n",
    "Início:\n",
    "\n",
    "[[0 0 0 0 0 0 1 0]\n",
    " [0 0 0 0 1 0 0 0]\n",
    " [0 1 0 0 0 0 0 0]\n",
    " [0 0 0 1 0 0 0 0]\n",
    " [0 0 0 0 0 1 0 0]\n",
    " [0 0 0 0 0 0 0 1]\n",
    " [0 0 1 0 0 0 0 0]\n",
    " [1 0 0 0 0 0 0 0]]\n",
    " \n",
    " '''"
   ]
  },
  {
   "cell_type": "markdown",
   "metadata": {},
   "source": [
    "![landscape-graph](figures/21-experiment.png)"
   ]
  },
  {
   "cell_type": "markdown",
   "metadata": {},
   "source": [
    "Desse modo uma das alternativas é fazer com que o algoritmo 'perceba' que está preso em um loop infinito. E escolher um movimento que piore a heurística mas que possivelmente encontra uma solução.\n",
    "\n",
    "A estratégia adotada neste trabalho foi contar as iterações em que um dado valor se repete até um limiar de 100. Após isto assumi-se que o algoritmo está preso em um platô. Em seguida, é reiniciado o tabuleiro com posições aleatórias."
   ]
  },
  {
   "cell_type": "code",
   "execution_count": 3,
   "metadata": {},
   "outputs": [
    {
     "data": {
      "text/plain": [
       "'\\nInício:\\n[[0 0 0 0 0 0 1 0]\\n [0 0 0 0 1 0 0 0]\\n [0 1 0 0 0 0 0 0]\\n [0 0 0 1 0 0 0 0]\\n [0 0 0 0 0 1 0 0]\\n [0 0 0 0 0 0 0 1]\\n [0 0 1 0 0 0 0 0]\\n [1 0 0 0 0 0 0 0]]\\n\\nSolução:\\n[[0 0 0 0 0 1 0 0]\\n [0 1 0 0 0 0 0 0]\\n [0 0 0 0 0 0 1 0]\\n [1 0 0 0 0 0 0 0]\\n [0 0 0 1 0 0 0 0]\\n [0 0 0 0 0 0 0 1]\\n [0 0 0 0 1 0 0 0]\\n [0 0 1 0 0 0 0 0]]\\n '"
      ]
     },
     "execution_count": 3,
     "metadata": {},
     "output_type": "execute_result"
    }
   ],
   "source": [
    "'''\n",
    "Início:\n",
    "[[0 0 0 0 0 0 1 0]\n",
    " [0 0 0 0 1 0 0 0]\n",
    " [0 1 0 0 0 0 0 0]\n",
    " [0 0 0 1 0 0 0 0]\n",
    " [0 0 0 0 0 1 0 0]\n",
    " [0 0 0 0 0 0 0 1]\n",
    " [0 0 1 0 0 0 0 0]\n",
    " [1 0 0 0 0 0 0 0]]\n",
    "\n",
    "Solução:\n",
    "[[0 0 0 0 0 1 0 0]\n",
    " [0 1 0 0 0 0 0 0]\n",
    " [0 0 0 0 0 0 1 0]\n",
    " [1 0 0 0 0 0 0 0]\n",
    " [0 0 0 1 0 0 0 0]\n",
    " [0 0 0 0 0 0 0 1]\n",
    " [0 0 0 0 1 0 0 0]\n",
    " [0 0 1 0 0 0 0 0]]\n",
    " '''"
   ]
  },
  {
   "cell_type": "markdown",
   "metadata": {},
   "source": [
    "![landscape-graph](figures/23-experiment.png)"
   ]
  },
  {
   "cell_type": "markdown",
   "metadata": {},
   "source": [
    "O código da subida da encosta em sua versão final:"
   ]
  },
  {
   "cell_type": "code",
   "execution_count": 4,
   "metadata": {},
   "outputs": [],
   "source": [
    "import numpy as np\n",
    "from numpy.random import randint as rand\n",
    "\n",
    "QUEEN = 1\n",
    "H = 2\n",
    "\n",
    "class HillClimbing:\n",
    "  \n",
    "  def __init__(self,board):\n",
    "    self._board = board\n",
    "    self._N = board.getN()\n",
    "    self._current_node = self._make_node()\n",
    "  \n",
    "  def _heuristic(self):\n",
    "    rv = dv = 0\n",
    "    rv = self._board.count_atack_row()\n",
    "    dv = self._board.count_main_diagonal()\n",
    "    dv += self._board.count_secondary_diagonal()\n",
    "    return int(rv + dv)\n",
    "\n",
    "  def _make_node(self):\n",
    "    i, j = self._board.find_queen(rand(8))\n",
    "    return [i, j, self._heuristic()]\n",
    "\n",
    "  def _find_best_value(self):\n",
    "    best_values = [[self._current_node[0], self._current_node[1], self._current_node[H]]]\n",
    "    for column in range(self._N):\n",
    "      for row in range(self._N):\n",
    "        i, j = self._board.move_queen(row, column)\n",
    "        neighbor = [row, column, self._heuristic()]\n",
    "        self._board.move_queen(i, j)\n",
    "\n",
    "        if best_values[0][H] == neighbor[H]:\n",
    "          best_values.append(neighbor)\n",
    "        \n",
    "        if best_values[0][H] > neighbor[H]:\n",
    "          best_values.clear()\n",
    "          best_values.append(neighbor)\n",
    "    \n",
    "    nbr_same_value = len(best_values)\n",
    "    if nbr_same_value != 0:\n",
    "      return best_values[rand(nbr_same_value)]\n",
    "    return best_values[0]\n",
    "  \n",
    "  def get_board(self):\n",
    "    return self._board.get_board()\n",
    "\n",
    "  def execute(self):\n",
    "    yield self._current_node[H]\n",
    "    step = 0\n",
    "    last_value = [self._current_node[0], self._current_node[1], self._current_node[H]]\n",
    "    while True:\n",
    "      h = self._find_best_value()\n",
    "      last_value[0] = h[0]\n",
    "      last_value[1] = h[1]\n",
    "      last_value[H] = h[H]\n",
    "      if self._current_node[H] >= h[H]:\n",
    "        self._current_node = h\n",
    "        self._board.move_queen(h[0], h[1])\n",
    "        yield h[H]\n",
    "      if self._current_node[H] == 0:\n",
    "        self._board.print()\n",
    "        break\n",
    "      if last_value[H] == h[H]:\n",
    "        step += 1\n",
    "      if step == 100:\n",
    "        step = 0\n",
    "        self._board.rand_init()\n",
    "        i, j = self._board.find_queen(0)\n",
    "        self._current_node = [i, j, self._heuristic()]\n"
   ]
  },
  {
   "cell_type": "code",
   "execution_count": null,
   "metadata": {},
   "outputs": [],
   "source": []
  }
 ],
 "metadata": {
  "kernelspec": {
   "display_name": "Python 3",
   "language": "python",
   "name": "python3"
  },
  "language_info": {
   "codemirror_mode": {
    "name": "ipython",
    "version": 3
   },
   "file_extension": ".py",
   "mimetype": "text/x-python",
   "name": "python",
   "nbconvert_exporter": "python",
   "pygments_lexer": "ipython3",
   "version": "3.7.1"
  }
 },
 "nbformat": 4,
 "nbformat_minor": 2
}
